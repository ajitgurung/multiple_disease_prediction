{
 "cells": [
  {
   "cell_type": "code",
   "execution_count": 37,
   "metadata": {
    "execution": {
     "iopub.execute_input": "2024-04-12T15:24:41.104403Z",
     "iopub.status.busy": "2024-04-12T15:24:41.103555Z",
     "iopub.status.idle": "2024-04-12T15:24:41.110316Z",
     "shell.execute_reply": "2024-04-12T15:24:41.108807Z",
     "shell.execute_reply.started": "2024-04-12T15:24:41.104350Z"
    }
   },
   "outputs": [],
   "source": [
    "# basic libraries\n",
    "import pandas as pd\n",
    "import numpy as np\n",
    "import matplotlib.pyplot as plt\n",
    "import seaborn as sns\n",
    "import joblib"
   ]
  },
  {
   "cell_type": "code",
   "execution_count": 2,
   "metadata": {
    "execution": {
     "iopub.execute_input": "2024-04-12T15:16:23.823644Z",
     "iopub.status.busy": "2024-04-12T15:16:23.823289Z",
     "iopub.status.idle": "2024-04-12T15:16:23.828645Z",
     "shell.execute_reply": "2024-04-12T15:16:23.827370Z",
     "shell.execute_reply.started": "2024-04-12T15:16:23.823616Z"
    }
   },
   "outputs": [],
   "source": [
    "# warnings removal\n",
    "import warnings\n",
    "warnings.filterwarnings('ignore')"
   ]
  },
  {
   "cell_type": "markdown",
   "metadata": {},
   "source": [
    "# **Data Preprocessing**"
   ]
  },
  {
   "cell_type": "code",
   "execution_count": 3,
   "metadata": {
    "execution": {
     "iopub.execute_input": "2024-04-12T15:16:28.023694Z",
     "iopub.status.busy": "2024-04-12T15:16:28.023326Z",
     "iopub.status.idle": "2024-04-12T15:16:28.268095Z",
     "shell.execute_reply": "2024-04-12T15:16:28.266971Z",
     "shell.execute_reply.started": "2024-04-12T15:16:28.023667Z"
    }
   },
   "outputs": [],
   "source": [
    "# train test splitting libraries\n",
    "from sklearn.model_selection import train_test_split"
   ]
  },
  {
   "cell_type": "code",
   "execution_count": 4,
   "metadata": {
    "execution": {
     "iopub.execute_input": "2024-04-12T15:16:29.851806Z",
     "iopub.status.busy": "2024-04-12T15:16:29.851343Z",
     "iopub.status.idle": "2024-04-12T15:16:29.922376Z",
     "shell.execute_reply": "2024-04-12T15:16:29.921319Z",
     "shell.execute_reply.started": "2024-04-12T15:16:29.851769Z"
    }
   },
   "outputs": [],
   "source": [
    "# defining dataframes\n",
    "df_train = pd.read_csv('dataset/train.csv')\n",
    "df_test = pd.read_csv('dataset/test.csv')"
   ]
  },
  {
   "cell_type": "code",
   "execution_count": 5,
   "metadata": {
    "execution": {
     "iopub.execute_input": "2024-04-12T15:16:31.273765Z",
     "iopub.status.busy": "2024-04-12T15:16:31.273157Z",
     "iopub.status.idle": "2024-04-12T15:16:31.311724Z",
     "shell.execute_reply": "2024-04-12T15:16:31.310480Z",
     "shell.execute_reply.started": "2024-04-12T15:16:31.273732Z"
    }
   },
   "outputs": [
    {
     "data": {
      "text/html": [
       "<div>\n",
       "<style scoped>\n",
       "    .dataframe tbody tr th:only-of-type {\n",
       "        vertical-align: middle;\n",
       "    }\n",
       "\n",
       "    .dataframe tbody tr th {\n",
       "        vertical-align: top;\n",
       "    }\n",
       "\n",
       "    .dataframe thead th {\n",
       "        text-align: right;\n",
       "    }\n",
       "</style>\n",
       "<table border=\"1\" class=\"dataframe\">\n",
       "  <thead>\n",
       "    <tr style=\"text-align: right;\">\n",
       "      <th></th>\n",
       "      <th>Glucose</th>\n",
       "      <th>Cholesterol</th>\n",
       "      <th>Hemoglobin</th>\n",
       "      <th>Platelets</th>\n",
       "      <th>White Blood Cells</th>\n",
       "      <th>Red Blood Cells</th>\n",
       "      <th>Hematocrit</th>\n",
       "      <th>Mean Corpuscular Volume</th>\n",
       "      <th>Mean Corpuscular Hemoglobin</th>\n",
       "      <th>Mean Corpuscular Hemoglobin Concentration</th>\n",
       "      <th>...</th>\n",
       "      <th>HbA1c</th>\n",
       "      <th>LDL Cholesterol</th>\n",
       "      <th>HDL Cholesterol</th>\n",
       "      <th>ALT</th>\n",
       "      <th>AST</th>\n",
       "      <th>Heart Rate</th>\n",
       "      <th>Creatinine</th>\n",
       "      <th>Troponin</th>\n",
       "      <th>C-reactive Protein</th>\n",
       "      <th>Disease</th>\n",
       "    </tr>\n",
       "  </thead>\n",
       "  <tbody>\n",
       "    <tr>\n",
       "      <th>0</th>\n",
       "      <td>0.739597</td>\n",
       "      <td>0.650198</td>\n",
       "      <td>0.713631</td>\n",
       "      <td>0.868491</td>\n",
       "      <td>0.687433</td>\n",
       "      <td>0.529895</td>\n",
       "      <td>0.290006</td>\n",
       "      <td>0.631045</td>\n",
       "      <td>0.001328</td>\n",
       "      <td>0.795829</td>\n",
       "      <td>...</td>\n",
       "      <td>0.502665</td>\n",
       "      <td>0.215560</td>\n",
       "      <td>0.512941</td>\n",
       "      <td>0.064187</td>\n",
       "      <td>0.610827</td>\n",
       "      <td>0.939485</td>\n",
       "      <td>0.095512</td>\n",
       "      <td>0.465957</td>\n",
       "      <td>0.769230</td>\n",
       "      <td>Healthy</td>\n",
       "    </tr>\n",
       "    <tr>\n",
       "      <th>1</th>\n",
       "      <td>0.121786</td>\n",
       "      <td>0.023058</td>\n",
       "      <td>0.944893</td>\n",
       "      <td>0.905372</td>\n",
       "      <td>0.507711</td>\n",
       "      <td>0.403033</td>\n",
       "      <td>0.164216</td>\n",
       "      <td>0.307553</td>\n",
       "      <td>0.207938</td>\n",
       "      <td>0.505562</td>\n",
       "      <td>...</td>\n",
       "      <td>0.856810</td>\n",
       "      <td>0.652465</td>\n",
       "      <td>0.106961</td>\n",
       "      <td>0.942549</td>\n",
       "      <td>0.344261</td>\n",
       "      <td>0.666368</td>\n",
       "      <td>0.659060</td>\n",
       "      <td>0.816982</td>\n",
       "      <td>0.401166</td>\n",
       "      <td>Diabetes</td>\n",
       "    </tr>\n",
       "    <tr>\n",
       "      <th>2</th>\n",
       "      <td>0.452539</td>\n",
       "      <td>0.116135</td>\n",
       "      <td>0.544560</td>\n",
       "      <td>0.400640</td>\n",
       "      <td>0.294538</td>\n",
       "      <td>0.382021</td>\n",
       "      <td>0.625267</td>\n",
       "      <td>0.295122</td>\n",
       "      <td>0.868369</td>\n",
       "      <td>0.026808</td>\n",
       "      <td>...</td>\n",
       "      <td>0.466795</td>\n",
       "      <td>0.387332</td>\n",
       "      <td>0.421763</td>\n",
       "      <td>0.007186</td>\n",
       "      <td>0.506918</td>\n",
       "      <td>0.431704</td>\n",
       "      <td>0.417295</td>\n",
       "      <td>0.799074</td>\n",
       "      <td>0.779208</td>\n",
       "      <td>Thalasse</td>\n",
       "    </tr>\n",
       "    <tr>\n",
       "      <th>3</th>\n",
       "      <td>0.136609</td>\n",
       "      <td>0.015605</td>\n",
       "      <td>0.419957</td>\n",
       "      <td>0.191487</td>\n",
       "      <td>0.081168</td>\n",
       "      <td>0.166214</td>\n",
       "      <td>0.073293</td>\n",
       "      <td>0.668719</td>\n",
       "      <td>0.125447</td>\n",
       "      <td>0.501051</td>\n",
       "      <td>...</td>\n",
       "      <td>0.016256</td>\n",
       "      <td>0.040137</td>\n",
       "      <td>0.826721</td>\n",
       "      <td>0.265415</td>\n",
       "      <td>0.594148</td>\n",
       "      <td>0.225756</td>\n",
       "      <td>0.490349</td>\n",
       "      <td>0.637061</td>\n",
       "      <td>0.354094</td>\n",
       "      <td>Anemia</td>\n",
       "    </tr>\n",
       "    <tr>\n",
       "      <th>4</th>\n",
       "      <td>0.176737</td>\n",
       "      <td>0.752220</td>\n",
       "      <td>0.971779</td>\n",
       "      <td>0.785286</td>\n",
       "      <td>0.443880</td>\n",
       "      <td>0.439851</td>\n",
       "      <td>0.894991</td>\n",
       "      <td>0.442159</td>\n",
       "      <td>0.257288</td>\n",
       "      <td>0.805987</td>\n",
       "      <td>...</td>\n",
       "      <td>0.429431</td>\n",
       "      <td>0.146294</td>\n",
       "      <td>0.221574</td>\n",
       "      <td>0.015280</td>\n",
       "      <td>0.567115</td>\n",
       "      <td>0.841412</td>\n",
       "      <td>0.153350</td>\n",
       "      <td>0.794008</td>\n",
       "      <td>0.094970</td>\n",
       "      <td>Thalasse</td>\n",
       "    </tr>\n",
       "    <tr>\n",
       "      <th>5</th>\n",
       "      <td>0.898222</td>\n",
       "      <td>0.258706</td>\n",
       "      <td>0.933307</td>\n",
       "      <td>0.353082</td>\n",
       "      <td>0.373952</td>\n",
       "      <td>0.297138</td>\n",
       "      <td>0.900010</td>\n",
       "      <td>0.985488</td>\n",
       "      <td>0.679007</td>\n",
       "      <td>0.355774</td>\n",
       "      <td>...</td>\n",
       "      <td>0.389461</td>\n",
       "      <td>0.529914</td>\n",
       "      <td>0.222687</td>\n",
       "      <td>0.772461</td>\n",
       "      <td>0.119994</td>\n",
       "      <td>0.894273</td>\n",
       "      <td>0.128124</td>\n",
       "      <td>0.379016</td>\n",
       "      <td>0.751438</td>\n",
       "      <td>Diabetes</td>\n",
       "    </tr>\n",
       "    <tr>\n",
       "      <th>6</th>\n",
       "      <td>0.353734</td>\n",
       "      <td>0.757757</td>\n",
       "      <td>0.755007</td>\n",
       "      <td>0.012594</td>\n",
       "      <td>0.227684</td>\n",
       "      <td>0.425117</td>\n",
       "      <td>0.387461</td>\n",
       "      <td>0.461418</td>\n",
       "      <td>0.305588</td>\n",
       "      <td>0.741120</td>\n",
       "      <td>...</td>\n",
       "      <td>0.446854</td>\n",
       "      <td>0.729376</td>\n",
       "      <td>0.615543</td>\n",
       "      <td>0.794735</td>\n",
       "      <td>0.233890</td>\n",
       "      <td>0.612188</td>\n",
       "      <td>0.407891</td>\n",
       "      <td>0.426863</td>\n",
       "      <td>0.532100</td>\n",
       "      <td>Thromboc</td>\n",
       "    </tr>\n",
       "    <tr>\n",
       "      <th>7</th>\n",
       "      <td>0.399017</td>\n",
       "      <td>0.508254</td>\n",
       "      <td>0.777394</td>\n",
       "      <td>0.096310</td>\n",
       "      <td>0.925520</td>\n",
       "      <td>0.652505</td>\n",
       "      <td>0.684896</td>\n",
       "      <td>0.380656</td>\n",
       "      <td>0.248189</td>\n",
       "      <td>0.490245</td>\n",
       "      <td>...</td>\n",
       "      <td>0.673188</td>\n",
       "      <td>0.033037</td>\n",
       "      <td>0.772045</td>\n",
       "      <td>0.253892</td>\n",
       "      <td>0.322486</td>\n",
       "      <td>0.659069</td>\n",
       "      <td>0.774219</td>\n",
       "      <td>0.714177</td>\n",
       "      <td>0.609177</td>\n",
       "      <td>Thromboc</td>\n",
       "    </tr>\n",
       "    <tr>\n",
       "      <th>8</th>\n",
       "      <td>0.722428</td>\n",
       "      <td>0.300282</td>\n",
       "      <td>0.487907</td>\n",
       "      <td>0.200865</td>\n",
       "      <td>0.402035</td>\n",
       "      <td>0.729285</td>\n",
       "      <td>0.851338</td>\n",
       "      <td>0.820546</td>\n",
       "      <td>0.106637</td>\n",
       "      <td>0.006947</td>\n",
       "      <td>...</td>\n",
       "      <td>0.022621</td>\n",
       "      <td>0.061317</td>\n",
       "      <td>0.644191</td>\n",
       "      <td>0.715823</td>\n",
       "      <td>0.417170</td>\n",
       "      <td>0.639148</td>\n",
       "      <td>0.213026</td>\n",
       "      <td>0.549920</td>\n",
       "      <td>0.036800</td>\n",
       "      <td>Thalasse</td>\n",
       "    </tr>\n",
       "    <tr>\n",
       "      <th>9</th>\n",
       "      <td>0.399017</td>\n",
       "      <td>0.508254</td>\n",
       "      <td>0.777394</td>\n",
       "      <td>0.096310</td>\n",
       "      <td>0.925520</td>\n",
       "      <td>0.652505</td>\n",
       "      <td>0.684896</td>\n",
       "      <td>0.380656</td>\n",
       "      <td>0.248189</td>\n",
       "      <td>0.490245</td>\n",
       "      <td>...</td>\n",
       "      <td>0.673188</td>\n",
       "      <td>0.033037</td>\n",
       "      <td>0.772045</td>\n",
       "      <td>0.253892</td>\n",
       "      <td>0.322486</td>\n",
       "      <td>0.659069</td>\n",
       "      <td>0.774219</td>\n",
       "      <td>0.714177</td>\n",
       "      <td>0.609177</td>\n",
       "      <td>Thromboc</td>\n",
       "    </tr>\n",
       "  </tbody>\n",
       "</table>\n",
       "<p>10 rows × 25 columns</p>\n",
       "</div>"
      ],
      "text/plain": [
       "    Glucose  Cholesterol  Hemoglobin  Platelets  White Blood Cells  \\\n",
       "0  0.739597     0.650198    0.713631   0.868491           0.687433   \n",
       "1  0.121786     0.023058    0.944893   0.905372           0.507711   \n",
       "2  0.452539     0.116135    0.544560   0.400640           0.294538   \n",
       "3  0.136609     0.015605    0.419957   0.191487           0.081168   \n",
       "4  0.176737     0.752220    0.971779   0.785286           0.443880   \n",
       "5  0.898222     0.258706    0.933307   0.353082           0.373952   \n",
       "6  0.353734     0.757757    0.755007   0.012594           0.227684   \n",
       "7  0.399017     0.508254    0.777394   0.096310           0.925520   \n",
       "8  0.722428     0.300282    0.487907   0.200865           0.402035   \n",
       "9  0.399017     0.508254    0.777394   0.096310           0.925520   \n",
       "\n",
       "   Red Blood Cells  Hematocrit  Mean Corpuscular Volume  \\\n",
       "0         0.529895    0.290006                 0.631045   \n",
       "1         0.403033    0.164216                 0.307553   \n",
       "2         0.382021    0.625267                 0.295122   \n",
       "3         0.166214    0.073293                 0.668719   \n",
       "4         0.439851    0.894991                 0.442159   \n",
       "5         0.297138    0.900010                 0.985488   \n",
       "6         0.425117    0.387461                 0.461418   \n",
       "7         0.652505    0.684896                 0.380656   \n",
       "8         0.729285    0.851338                 0.820546   \n",
       "9         0.652505    0.684896                 0.380656   \n",
       "\n",
       "   Mean Corpuscular Hemoglobin  Mean Corpuscular Hemoglobin Concentration  \\\n",
       "0                     0.001328                                   0.795829   \n",
       "1                     0.207938                                   0.505562   \n",
       "2                     0.868369                                   0.026808   \n",
       "3                     0.125447                                   0.501051   \n",
       "4                     0.257288                                   0.805987   \n",
       "5                     0.679007                                   0.355774   \n",
       "6                     0.305588                                   0.741120   \n",
       "7                     0.248189                                   0.490245   \n",
       "8                     0.106637                                   0.006947   \n",
       "9                     0.248189                                   0.490245   \n",
       "\n",
       "   ...     HbA1c  LDL Cholesterol  HDL Cholesterol       ALT       AST  \\\n",
       "0  ...  0.502665         0.215560         0.512941  0.064187  0.610827   \n",
       "1  ...  0.856810         0.652465         0.106961  0.942549  0.344261   \n",
       "2  ...  0.466795         0.387332         0.421763  0.007186  0.506918   \n",
       "3  ...  0.016256         0.040137         0.826721  0.265415  0.594148   \n",
       "4  ...  0.429431         0.146294         0.221574  0.015280  0.567115   \n",
       "5  ...  0.389461         0.529914         0.222687  0.772461  0.119994   \n",
       "6  ...  0.446854         0.729376         0.615543  0.794735  0.233890   \n",
       "7  ...  0.673188         0.033037         0.772045  0.253892  0.322486   \n",
       "8  ...  0.022621         0.061317         0.644191  0.715823  0.417170   \n",
       "9  ...  0.673188         0.033037         0.772045  0.253892  0.322486   \n",
       "\n",
       "   Heart Rate  Creatinine  Troponin  C-reactive Protein   Disease  \n",
       "0    0.939485    0.095512  0.465957            0.769230   Healthy  \n",
       "1    0.666368    0.659060  0.816982            0.401166  Diabetes  \n",
       "2    0.431704    0.417295  0.799074            0.779208  Thalasse  \n",
       "3    0.225756    0.490349  0.637061            0.354094    Anemia  \n",
       "4    0.841412    0.153350  0.794008            0.094970  Thalasse  \n",
       "5    0.894273    0.128124  0.379016            0.751438  Diabetes  \n",
       "6    0.612188    0.407891  0.426863            0.532100  Thromboc  \n",
       "7    0.659069    0.774219  0.714177            0.609177  Thromboc  \n",
       "8    0.639148    0.213026  0.549920            0.036800  Thalasse  \n",
       "9    0.659069    0.774219  0.714177            0.609177  Thromboc  \n",
       "\n",
       "[10 rows x 25 columns]"
      ]
     },
     "execution_count": 5,
     "metadata": {},
     "output_type": "execute_result"
    }
   ],
   "source": [
    "# checking df_train head\n",
    "df_train.head(10)"
   ]
  },
  {
   "cell_type": "code",
   "execution_count": 6,
   "metadata": {
    "execution": {
     "iopub.execute_input": "2024-04-12T15:16:32.353156Z",
     "iopub.status.busy": "2024-04-12T15:16:32.352725Z",
     "iopub.status.idle": "2024-04-12T15:16:32.361719Z",
     "shell.execute_reply": "2024-04-12T15:16:32.360492Z",
     "shell.execute_reply.started": "2024-04-12T15:16:32.353096Z"
    }
   },
   "outputs": [
    {
     "data": {
      "text/plain": [
       "Glucose                                      float64\n",
       "Cholesterol                                  float64\n",
       "Hemoglobin                                   float64\n",
       "Platelets                                    float64\n",
       "White Blood Cells                            float64\n",
       "Red Blood Cells                              float64\n",
       "Hematocrit                                   float64\n",
       "Mean Corpuscular Volume                      float64\n",
       "Mean Corpuscular Hemoglobin                  float64\n",
       "Mean Corpuscular Hemoglobin Concentration    float64\n",
       "Insulin                                      float64\n",
       "BMI                                          float64\n",
       "Systolic Blood Pressure                      float64\n",
       "Diastolic Blood Pressure                     float64\n",
       "Triglycerides                                float64\n",
       "HbA1c                                        float64\n",
       "LDL Cholesterol                              float64\n",
       "HDL Cholesterol                              float64\n",
       "ALT                                          float64\n",
       "AST                                          float64\n",
       "Heart Rate                                   float64\n",
       "Creatinine                                   float64\n",
       "Troponin                                     float64\n",
       "C-reactive Protein                           float64\n",
       "Disease                                       object\n",
       "dtype: object"
      ]
     },
     "execution_count": 6,
     "metadata": {},
     "output_type": "execute_result"
    }
   ],
   "source": [
    "# checking df_train datatypes\n",
    "df_train.dtypes"
   ]
  },
  {
   "cell_type": "code",
   "execution_count": 7,
   "metadata": {
    "execution": {
     "iopub.execute_input": "2024-04-12T15:17:20.693294Z",
     "iopub.status.busy": "2024-04-12T15:17:20.692761Z",
     "iopub.status.idle": "2024-04-12T15:17:20.721904Z",
     "shell.execute_reply": "2024-04-12T15:17:20.720726Z",
     "shell.execute_reply.started": "2024-04-12T15:17:20.693261Z"
    }
   },
   "outputs": [
    {
     "data": {
      "text/html": [
       "<div>\n",
       "<style scoped>\n",
       "    .dataframe tbody tr th:only-of-type {\n",
       "        vertical-align: middle;\n",
       "    }\n",
       "\n",
       "    .dataframe tbody tr th {\n",
       "        vertical-align: top;\n",
       "    }\n",
       "\n",
       "    .dataframe thead th {\n",
       "        text-align: right;\n",
       "    }\n",
       "</style>\n",
       "<table border=\"1\" class=\"dataframe\">\n",
       "  <thead>\n",
       "    <tr style=\"text-align: right;\">\n",
       "      <th></th>\n",
       "      <th>Glucose</th>\n",
       "      <th>Cholesterol</th>\n",
       "      <th>Hemoglobin</th>\n",
       "      <th>Platelets</th>\n",
       "      <th>White Blood Cells</th>\n",
       "      <th>Red Blood Cells</th>\n",
       "      <th>Hematocrit</th>\n",
       "      <th>Mean Corpuscular Volume</th>\n",
       "      <th>Mean Corpuscular Hemoglobin</th>\n",
       "      <th>Mean Corpuscular Hemoglobin Concentration</th>\n",
       "      <th>...</th>\n",
       "      <th>HbA1c</th>\n",
       "      <th>LDL Cholesterol</th>\n",
       "      <th>HDL Cholesterol</th>\n",
       "      <th>ALT</th>\n",
       "      <th>AST</th>\n",
       "      <th>Heart Rate</th>\n",
       "      <th>Creatinine</th>\n",
       "      <th>Troponin</th>\n",
       "      <th>C-reactive Protein</th>\n",
       "      <th>Disease</th>\n",
       "    </tr>\n",
       "  </thead>\n",
       "  <tbody>\n",
       "    <tr>\n",
       "      <th>0</th>\n",
       "      <td>0.001827</td>\n",
       "      <td>0.033693</td>\n",
       "      <td>0.114755</td>\n",
       "      <td>0.997927</td>\n",
       "      <td>0.562604</td>\n",
       "      <td>0.866499</td>\n",
       "      <td>0.578042</td>\n",
       "      <td>0.914615</td>\n",
       "      <td>0.026864</td>\n",
       "      <td>0.038641</td>\n",
       "      <td>...</td>\n",
       "      <td>0.653230</td>\n",
       "      <td>0.186104</td>\n",
       "      <td>0.430398</td>\n",
       "      <td>0.016678</td>\n",
       "      <td>0.885352</td>\n",
       "      <td>0.652733</td>\n",
       "      <td>0.788235</td>\n",
       "      <td>0.054788</td>\n",
       "      <td>0.031313</td>\n",
       "      <td>Thalasse</td>\n",
       "    </tr>\n",
       "    <tr>\n",
       "      <th>1</th>\n",
       "      <td>0.436679</td>\n",
       "      <td>0.972653</td>\n",
       "      <td>0.084998</td>\n",
       "      <td>0.180909</td>\n",
       "      <td>0.675736</td>\n",
       "      <td>0.563889</td>\n",
       "      <td>0.798382</td>\n",
       "      <td>0.670361</td>\n",
       "      <td>0.376092</td>\n",
       "      <td>0.184890</td>\n",
       "      <td>...</td>\n",
       "      <td>0.833540</td>\n",
       "      <td>0.153001</td>\n",
       "      <td>0.458533</td>\n",
       "      <td>0.401845</td>\n",
       "      <td>0.635969</td>\n",
       "      <td>0.574425</td>\n",
       "      <td>0.047025</td>\n",
       "      <td>0.607985</td>\n",
       "      <td>0.594123</td>\n",
       "      <td>Diabetes</td>\n",
       "    </tr>\n",
       "    <tr>\n",
       "      <th>2</th>\n",
       "      <td>0.545697</td>\n",
       "      <td>0.324815</td>\n",
       "      <td>0.584467</td>\n",
       "      <td>0.475748</td>\n",
       "      <td>0.558596</td>\n",
       "      <td>0.661007</td>\n",
       "      <td>0.934056</td>\n",
       "      <td>0.381782</td>\n",
       "      <td>0.500342</td>\n",
       "      <td>0.531829</td>\n",
       "      <td>...</td>\n",
       "      <td>0.678901</td>\n",
       "      <td>0.220479</td>\n",
       "      <td>0.817151</td>\n",
       "      <td>0.690981</td>\n",
       "      <td>0.101633</td>\n",
       "      <td>0.855740</td>\n",
       "      <td>0.551124</td>\n",
       "      <td>0.413294</td>\n",
       "      <td>0.070909</td>\n",
       "      <td>Heart Di</td>\n",
       "    </tr>\n",
       "    <tr>\n",
       "      <th>3</th>\n",
       "      <td>0.172994</td>\n",
       "      <td>0.050351</td>\n",
       "      <td>0.736000</td>\n",
       "      <td>0.782022</td>\n",
       "      <td>0.069435</td>\n",
       "      <td>0.085219</td>\n",
       "      <td>0.032907</td>\n",
       "      <td>0.460619</td>\n",
       "      <td>0.785448</td>\n",
       "      <td>0.491495</td>\n",
       "      <td>...</td>\n",
       "      <td>0.381500</td>\n",
       "      <td>0.459396</td>\n",
       "      <td>0.420154</td>\n",
       "      <td>0.798537</td>\n",
       "      <td>0.399236</td>\n",
       "      <td>0.324600</td>\n",
       "      <td>0.499504</td>\n",
       "      <td>0.436662</td>\n",
       "      <td>0.242766</td>\n",
       "      <td>Diabetes</td>\n",
       "    </tr>\n",
       "    <tr>\n",
       "      <th>4</th>\n",
       "      <td>0.758534</td>\n",
       "      <td>0.739968</td>\n",
       "      <td>0.597868</td>\n",
       "      <td>0.772683</td>\n",
       "      <td>0.875720</td>\n",
       "      <td>0.860265</td>\n",
       "      <td>0.486189</td>\n",
       "      <td>0.486686</td>\n",
       "      <td>0.621048</td>\n",
       "      <td>0.191756</td>\n",
       "      <td>...</td>\n",
       "      <td>0.993381</td>\n",
       "      <td>0.272338</td>\n",
       "      <td>0.663579</td>\n",
       "      <td>0.265227</td>\n",
       "      <td>0.918847</td>\n",
       "      <td>0.804910</td>\n",
       "      <td>0.571119</td>\n",
       "      <td>0.188368</td>\n",
       "      <td>0.750848</td>\n",
       "      <td>Heart Di</td>\n",
       "    </tr>\n",
       "    <tr>\n",
       "      <th>5</th>\n",
       "      <td>0.321872</td>\n",
       "      <td>0.554649</td>\n",
       "      <td>0.195652</td>\n",
       "      <td>0.427216</td>\n",
       "      <td>0.807751</td>\n",
       "      <td>0.376964</td>\n",
       "      <td>0.519526</td>\n",
       "      <td>0.028090</td>\n",
       "      <td>0.382538</td>\n",
       "      <td>0.568205</td>\n",
       "      <td>...</td>\n",
       "      <td>0.711377</td>\n",
       "      <td>0.887863</td>\n",
       "      <td>0.370344</td>\n",
       "      <td>0.607066</td>\n",
       "      <td>0.936445</td>\n",
       "      <td>0.160355</td>\n",
       "      <td>0.108994</td>\n",
       "      <td>0.599071</td>\n",
       "      <td>0.560535</td>\n",
       "      <td>Heart Di</td>\n",
       "    </tr>\n",
       "    <tr>\n",
       "      <th>6</th>\n",
       "      <td>0.677636</td>\n",
       "      <td>0.435037</td>\n",
       "      <td>0.572571</td>\n",
       "      <td>0.965847</td>\n",
       "      <td>0.010580</td>\n",
       "      <td>0.753719</td>\n",
       "      <td>0.262138</td>\n",
       "      <td>0.789804</td>\n",
       "      <td>0.541149</td>\n",
       "      <td>0.550569</td>\n",
       "      <td>...</td>\n",
       "      <td>0.196416</td>\n",
       "      <td>0.141203</td>\n",
       "      <td>0.355437</td>\n",
       "      <td>0.468168</td>\n",
       "      <td>0.493548</td>\n",
       "      <td>0.213971</td>\n",
       "      <td>0.059427</td>\n",
       "      <td>0.836447</td>\n",
       "      <td>0.231356</td>\n",
       "      <td>Diabetes</td>\n",
       "    </tr>\n",
       "    <tr>\n",
       "      <th>7</th>\n",
       "      <td>0.105103</td>\n",
       "      <td>0.177558</td>\n",
       "      <td>0.169041</td>\n",
       "      <td>0.679138</td>\n",
       "      <td>0.886839</td>\n",
       "      <td>0.714977</td>\n",
       "      <td>0.197501</td>\n",
       "      <td>0.778653</td>\n",
       "      <td>0.319864</td>\n",
       "      <td>0.285914</td>\n",
       "      <td>...</td>\n",
       "      <td>0.259719</td>\n",
       "      <td>0.305473</td>\n",
       "      <td>0.867800</td>\n",
       "      <td>0.213141</td>\n",
       "      <td>0.094877</td>\n",
       "      <td>0.120487</td>\n",
       "      <td>0.211855</td>\n",
       "      <td>0.376829</td>\n",
       "      <td>0.645990</td>\n",
       "      <td>Diabetes</td>\n",
       "    </tr>\n",
       "    <tr>\n",
       "      <th>8</th>\n",
       "      <td>0.186686</td>\n",
       "      <td>0.210425</td>\n",
       "      <td>0.165662</td>\n",
       "      <td>0.207388</td>\n",
       "      <td>0.918350</td>\n",
       "      <td>0.746808</td>\n",
       "      <td>0.230674</td>\n",
       "      <td>0.616086</td>\n",
       "      <td>0.533183</td>\n",
       "      <td>0.400058</td>\n",
       "      <td>...</td>\n",
       "      <td>0.600902</td>\n",
       "      <td>0.812273</td>\n",
       "      <td>0.332766</td>\n",
       "      <td>0.797290</td>\n",
       "      <td>0.190961</td>\n",
       "      <td>0.298596</td>\n",
       "      <td>0.877684</td>\n",
       "      <td>0.966106</td>\n",
       "      <td>0.306355</td>\n",
       "      <td>Heart Di</td>\n",
       "    </tr>\n",
       "    <tr>\n",
       "      <th>9</th>\n",
       "      <td>0.448025</td>\n",
       "      <td>0.974133</td>\n",
       "      <td>0.143226</td>\n",
       "      <td>0.471179</td>\n",
       "      <td>0.161697</td>\n",
       "      <td>0.610458</td>\n",
       "      <td>0.470737</td>\n",
       "      <td>0.275112</td>\n",
       "      <td>0.702463</td>\n",
       "      <td>0.423561</td>\n",
       "      <td>...</td>\n",
       "      <td>0.435143</td>\n",
       "      <td>0.934164</td>\n",
       "      <td>0.094991</td>\n",
       "      <td>0.795212</td>\n",
       "      <td>0.456302</td>\n",
       "      <td>0.122741</td>\n",
       "      <td>0.820810</td>\n",
       "      <td>0.045505</td>\n",
       "      <td>0.562205</td>\n",
       "      <td>Diabetes</td>\n",
       "    </tr>\n",
       "  </tbody>\n",
       "</table>\n",
       "<p>10 rows × 25 columns</p>\n",
       "</div>"
      ],
      "text/plain": [
       "    Glucose  Cholesterol  Hemoglobin  Platelets  White Blood Cells  \\\n",
       "0  0.001827     0.033693    0.114755   0.997927           0.562604   \n",
       "1  0.436679     0.972653    0.084998   0.180909           0.675736   \n",
       "2  0.545697     0.324815    0.584467   0.475748           0.558596   \n",
       "3  0.172994     0.050351    0.736000   0.782022           0.069435   \n",
       "4  0.758534     0.739968    0.597868   0.772683           0.875720   \n",
       "5  0.321872     0.554649    0.195652   0.427216           0.807751   \n",
       "6  0.677636     0.435037    0.572571   0.965847           0.010580   \n",
       "7  0.105103     0.177558    0.169041   0.679138           0.886839   \n",
       "8  0.186686     0.210425    0.165662   0.207388           0.918350   \n",
       "9  0.448025     0.974133    0.143226   0.471179           0.161697   \n",
       "\n",
       "   Red Blood Cells  Hematocrit  Mean Corpuscular Volume  \\\n",
       "0         0.866499    0.578042                 0.914615   \n",
       "1         0.563889    0.798382                 0.670361   \n",
       "2         0.661007    0.934056                 0.381782   \n",
       "3         0.085219    0.032907                 0.460619   \n",
       "4         0.860265    0.486189                 0.486686   \n",
       "5         0.376964    0.519526                 0.028090   \n",
       "6         0.753719    0.262138                 0.789804   \n",
       "7         0.714977    0.197501                 0.778653   \n",
       "8         0.746808    0.230674                 0.616086   \n",
       "9         0.610458    0.470737                 0.275112   \n",
       "\n",
       "   Mean Corpuscular Hemoglobin  Mean Corpuscular Hemoglobin Concentration  \\\n",
       "0                     0.026864                                   0.038641   \n",
       "1                     0.376092                                   0.184890   \n",
       "2                     0.500342                                   0.531829   \n",
       "3                     0.785448                                   0.491495   \n",
       "4                     0.621048                                   0.191756   \n",
       "5                     0.382538                                   0.568205   \n",
       "6                     0.541149                                   0.550569   \n",
       "7                     0.319864                                   0.285914   \n",
       "8                     0.533183                                   0.400058   \n",
       "9                     0.702463                                   0.423561   \n",
       "\n",
       "   ...     HbA1c  LDL Cholesterol  HDL Cholesterol       ALT       AST  \\\n",
       "0  ...  0.653230         0.186104         0.430398  0.016678  0.885352   \n",
       "1  ...  0.833540         0.153001         0.458533  0.401845  0.635969   \n",
       "2  ...  0.678901         0.220479         0.817151  0.690981  0.101633   \n",
       "3  ...  0.381500         0.459396         0.420154  0.798537  0.399236   \n",
       "4  ...  0.993381         0.272338         0.663579  0.265227  0.918847   \n",
       "5  ...  0.711377         0.887863         0.370344  0.607066  0.936445   \n",
       "6  ...  0.196416         0.141203         0.355437  0.468168  0.493548   \n",
       "7  ...  0.259719         0.305473         0.867800  0.213141  0.094877   \n",
       "8  ...  0.600902         0.812273         0.332766  0.797290  0.190961   \n",
       "9  ...  0.435143         0.934164         0.094991  0.795212  0.456302   \n",
       "\n",
       "   Heart Rate  Creatinine  Troponin  C-reactive Protein   Disease  \n",
       "0    0.652733    0.788235  0.054788            0.031313  Thalasse  \n",
       "1    0.574425    0.047025  0.607985            0.594123  Diabetes  \n",
       "2    0.855740    0.551124  0.413294            0.070909  Heart Di  \n",
       "3    0.324600    0.499504  0.436662            0.242766  Diabetes  \n",
       "4    0.804910    0.571119  0.188368            0.750848  Heart Di  \n",
       "5    0.160355    0.108994  0.599071            0.560535  Heart Di  \n",
       "6    0.213971    0.059427  0.836447            0.231356  Diabetes  \n",
       "7    0.120487    0.211855  0.376829            0.645990  Diabetes  \n",
       "8    0.298596    0.877684  0.966106            0.306355  Heart Di  \n",
       "9    0.122741    0.820810  0.045505            0.562205  Diabetes  \n",
       "\n",
       "[10 rows x 25 columns]"
      ]
     },
     "execution_count": 7,
     "metadata": {},
     "output_type": "execute_result"
    }
   ],
   "source": [
    "# checking df_test head\n",
    "df_test.head(10)"
   ]
  },
  {
   "cell_type": "code",
   "execution_count": 8,
   "metadata": {
    "execution": {
     "iopub.execute_input": "2024-04-12T15:17:21.778292Z",
     "iopub.status.busy": "2024-04-12T15:17:21.777225Z",
     "iopub.status.idle": "2024-04-12T15:17:21.786266Z",
     "shell.execute_reply": "2024-04-12T15:17:21.785001Z",
     "shell.execute_reply.started": "2024-04-12T15:17:21.778239Z"
    }
   },
   "outputs": [
    {
     "data": {
      "text/plain": [
       "Glucose                                      float64\n",
       "Cholesterol                                  float64\n",
       "Hemoglobin                                   float64\n",
       "Platelets                                    float64\n",
       "White Blood Cells                            float64\n",
       "Red Blood Cells                              float64\n",
       "Hematocrit                                   float64\n",
       "Mean Corpuscular Volume                      float64\n",
       "Mean Corpuscular Hemoglobin                  float64\n",
       "Mean Corpuscular Hemoglobin Concentration    float64\n",
       "Insulin                                      float64\n",
       "BMI                                          float64\n",
       "Systolic Blood Pressure                      float64\n",
       "Diastolic Blood Pressure                     float64\n",
       "Triglycerides                                float64\n",
       "HbA1c                                        float64\n",
       "LDL Cholesterol                              float64\n",
       "HDL Cholesterol                              float64\n",
       "ALT                                          float64\n",
       "AST                                          float64\n",
       "Heart Rate                                   float64\n",
       "Creatinine                                   float64\n",
       "Troponin                                     float64\n",
       "C-reactive Protein                           float64\n",
       "Disease                                       object\n",
       "dtype: object"
      ]
     },
     "execution_count": 8,
     "metadata": {},
     "output_type": "execute_result"
    }
   ],
   "source": [
    "# checking df_test datatypes\n",
    "df_test.dtypes"
   ]
  },
  {
   "cell_type": "code",
   "execution_count": 9,
   "metadata": {
    "execution": {
     "iopub.execute_input": "2024-04-12T15:17:25.494493Z",
     "iopub.status.busy": "2024-04-12T15:17:25.494077Z",
     "iopub.status.idle": "2024-04-12T15:17:25.500511Z",
     "shell.execute_reply": "2024-04-12T15:17:25.499551Z",
     "shell.execute_reply.started": "2024-04-12T15:17:25.494461Z"
    }
   },
   "outputs": [
    {
     "data": {
      "text/plain": [
       "((2351, 25), (486, 25))"
      ]
     },
     "execution_count": 9,
     "metadata": {},
     "output_type": "execute_result"
    }
   ],
   "source": [
    "# check shapes\n",
    "df_train.shape, df_test.shape"
   ]
  },
  {
   "cell_type": "code",
   "execution_count": 10,
   "metadata": {
    "execution": {
     "iopub.execute_input": "2024-04-12T15:17:27.857241Z",
     "iopub.status.busy": "2024-04-12T15:17:27.856859Z",
     "iopub.status.idle": "2024-04-12T15:17:27.862958Z",
     "shell.execute_reply": "2024-04-12T15:17:27.861889Z",
     "shell.execute_reply.started": "2024-04-12T15:17:27.857210Z"
    }
   },
   "outputs": [],
   "source": [
    "# combining 2 dataframes into 1\n",
    "df = pd.concat([df_train, df_test], ignore_index=True)"
   ]
  },
  {
   "cell_type": "code",
   "execution_count": 11,
   "metadata": {
    "execution": {
     "iopub.execute_input": "2024-04-12T15:17:29.557181Z",
     "iopub.status.busy": "2024-04-12T15:17:29.556828Z",
     "iopub.status.idle": "2024-04-12T15:17:29.564212Z",
     "shell.execute_reply": "2024-04-12T15:17:29.563187Z",
     "shell.execute_reply.started": "2024-04-12T15:17:29.557154Z"
    }
   },
   "outputs": [
    {
     "data": {
      "text/plain": [
       "(2837, 25)"
      ]
     },
     "execution_count": 11,
     "metadata": {},
     "output_type": "execute_result"
    }
   ],
   "source": [
    "# checking dataframe shape\n",
    "df.shape"
   ]
  },
  {
   "cell_type": "code",
   "execution_count": 12,
   "metadata": {
    "execution": {
     "iopub.execute_input": "2024-04-12T15:17:31.693521Z",
     "iopub.status.busy": "2024-04-12T15:17:31.692886Z",
     "iopub.status.idle": "2024-04-12T15:17:31.702451Z",
     "shell.execute_reply": "2024-04-12T15:17:31.701134Z",
     "shell.execute_reply.started": "2024-04-12T15:17:31.693487Z"
    }
   },
   "outputs": [],
   "source": [
    "# X y separation\n",
    "X = df.drop(columns=['Disease'])\n",
    "y = df['Disease']"
   ]
  },
  {
   "cell_type": "code",
   "execution_count": 13,
   "metadata": {
    "execution": {
     "iopub.execute_input": "2024-04-12T15:17:36.503317Z",
     "iopub.status.busy": "2024-04-12T15:17:36.502941Z",
     "iopub.status.idle": "2024-04-12T15:17:36.520143Z",
     "shell.execute_reply": "2024-04-12T15:17:36.519003Z",
     "shell.execute_reply.started": "2024-04-12T15:17:36.503288Z"
    }
   },
   "outputs": [],
   "source": [
    "# train test split\n",
    "X_train, X_test, y_train, y_test = train_test_split(X, y, test_size=0.2, shuffle=True, random_state=42, stratify=y)"
   ]
  },
  {
   "cell_type": "code",
   "execution_count": 14,
   "metadata": {
    "execution": {
     "iopub.execute_input": "2024-04-12T15:17:37.923512Z",
     "iopub.status.busy": "2024-04-12T15:17:37.923091Z",
     "iopub.status.idle": "2024-04-12T15:17:37.938415Z",
     "shell.execute_reply": "2024-04-12T15:17:37.937427Z",
     "shell.execute_reply.started": "2024-04-12T15:17:37.923478Z"
    }
   },
   "outputs": [
    {
     "data": {
      "text/plain": [
       "(Disease\n",
       " Diabetes    667\n",
       " Anemia      565\n",
       " Healthy     449\n",
       " Thalasse    446\n",
       " Thromboc    111\n",
       " Heart Di     31\n",
       " Name: count, dtype: int64,\n",
       " Disease\n",
       " Diabetes    167\n",
       " Anemia      142\n",
       " Healthy     112\n",
       " Thalasse    111\n",
       " Thromboc     28\n",
       " Heart Di      8\n",
       " Name: count, dtype: int64)"
      ]
     },
     "execution_count": 14,
     "metadata": {},
     "output_type": "execute_result"
    }
   ],
   "source": [
    "# check values of Disease\n",
    "y_train.value_counts(), y_test.value_counts()"
   ]
  },
  {
   "cell_type": "markdown",
   "metadata": {},
   "source": [
    "# **Model Building**"
   ]
  },
  {
   "cell_type": "code",
   "execution_count": 15,
   "metadata": {
    "execution": {
     "iopub.execute_input": "2024-04-12T15:17:42.922378Z",
     "iopub.status.busy": "2024-04-12T15:17:42.922016Z",
     "iopub.status.idle": "2024-04-12T15:17:43.186353Z",
     "shell.execute_reply": "2024-04-12T15:17:43.185236Z",
     "shell.execute_reply.started": "2024-04-12T15:17:42.922351Z"
    }
   },
   "outputs": [],
   "source": [
    "# machine learning libraries\n",
    "from sklearn.linear_model import LogisticRegression\n",
    "from sklearn.ensemble import RandomForestClassifier\n",
    "from sklearn.svm import SVC\n",
    "from sklearn.neighbors import KNeighborsClassifier\n",
    "from sklearn.naive_bayes import GaussianNB"
   ]
  },
  {
   "cell_type": "code",
   "execution_count": 16,
   "metadata": {
    "execution": {
     "iopub.execute_input": "2024-04-12T15:17:54.943519Z",
     "iopub.status.busy": "2024-04-12T15:17:54.943110Z",
     "iopub.status.idle": "2024-04-12T15:17:54.948989Z",
     "shell.execute_reply": "2024-04-12T15:17:54.947698Z",
     "shell.execute_reply.started": "2024-04-12T15:17:54.943485Z"
    }
   },
   "outputs": [],
   "source": [
    "# initialize classifiers\n",
    "log_model = LogisticRegression()\n",
    "rf_model = RandomForestClassifier()\n",
    "svm_model = SVC()\n",
    "knn_model = KNeighborsClassifier()\n",
    "gnb_model = GaussianNB()"
   ]
  },
  {
   "cell_type": "code",
   "execution_count": 17,
   "metadata": {
    "execution": {
     "iopub.execute_input": "2024-04-12T15:17:56.853019Z",
     "iopub.status.busy": "2024-04-12T15:17:56.852661Z",
     "iopub.status.idle": "2024-04-12T15:17:56.998671Z",
     "shell.execute_reply": "2024-04-12T15:17:56.997379Z",
     "shell.execute_reply.started": "2024-04-12T15:17:56.852991Z"
    }
   },
   "outputs": [
    {
     "data": {
      "text/html": [
       "<style>#sk-container-id-1 {color: black;background-color: white;}#sk-container-id-1 pre{padding: 0;}#sk-container-id-1 div.sk-toggleable {background-color: white;}#sk-container-id-1 label.sk-toggleable__label {cursor: pointer;display: block;width: 100%;margin-bottom: 0;padding: 0.3em;box-sizing: border-box;text-align: center;}#sk-container-id-1 label.sk-toggleable__label-arrow:before {content: \"▸\";float: left;margin-right: 0.25em;color: #696969;}#sk-container-id-1 label.sk-toggleable__label-arrow:hover:before {color: black;}#sk-container-id-1 div.sk-estimator:hover label.sk-toggleable__label-arrow:before {color: black;}#sk-container-id-1 div.sk-toggleable__content {max-height: 0;max-width: 0;overflow: hidden;text-align: left;background-color: #f0f8ff;}#sk-container-id-1 div.sk-toggleable__content pre {margin: 0.2em;color: black;border-radius: 0.25em;background-color: #f0f8ff;}#sk-container-id-1 input.sk-toggleable__control:checked~div.sk-toggleable__content {max-height: 200px;max-width: 100%;overflow: auto;}#sk-container-id-1 input.sk-toggleable__control:checked~label.sk-toggleable__label-arrow:before {content: \"▾\";}#sk-container-id-1 div.sk-estimator input.sk-toggleable__control:checked~label.sk-toggleable__label {background-color: #d4ebff;}#sk-container-id-1 div.sk-label input.sk-toggleable__control:checked~label.sk-toggleable__label {background-color: #d4ebff;}#sk-container-id-1 input.sk-hidden--visually {border: 0;clip: rect(1px 1px 1px 1px);clip: rect(1px, 1px, 1px, 1px);height: 1px;margin: -1px;overflow: hidden;padding: 0;position: absolute;width: 1px;}#sk-container-id-1 div.sk-estimator {font-family: monospace;background-color: #f0f8ff;border: 1px dotted black;border-radius: 0.25em;box-sizing: border-box;margin-bottom: 0.5em;}#sk-container-id-1 div.sk-estimator:hover {background-color: #d4ebff;}#sk-container-id-1 div.sk-parallel-item::after {content: \"\";width: 100%;border-bottom: 1px solid gray;flex-grow: 1;}#sk-container-id-1 div.sk-label:hover label.sk-toggleable__label {background-color: #d4ebff;}#sk-container-id-1 div.sk-serial::before {content: \"\";position: absolute;border-left: 1px solid gray;box-sizing: border-box;top: 0;bottom: 0;left: 50%;z-index: 0;}#sk-container-id-1 div.sk-serial {display: flex;flex-direction: column;align-items: center;background-color: white;padding-right: 0.2em;padding-left: 0.2em;position: relative;}#sk-container-id-1 div.sk-item {position: relative;z-index: 1;}#sk-container-id-1 div.sk-parallel {display: flex;align-items: stretch;justify-content: center;background-color: white;position: relative;}#sk-container-id-1 div.sk-item::before, #sk-container-id-1 div.sk-parallel-item::before {content: \"\";position: absolute;border-left: 1px solid gray;box-sizing: border-box;top: 0;bottom: 0;left: 50%;z-index: -1;}#sk-container-id-1 div.sk-parallel-item {display: flex;flex-direction: column;z-index: 1;position: relative;background-color: white;}#sk-container-id-1 div.sk-parallel-item:first-child::after {align-self: flex-end;width: 50%;}#sk-container-id-1 div.sk-parallel-item:last-child::after {align-self: flex-start;width: 50%;}#sk-container-id-1 div.sk-parallel-item:only-child::after {width: 0;}#sk-container-id-1 div.sk-dashed-wrapped {border: 1px dashed gray;margin: 0 0.4em 0.5em 0.4em;box-sizing: border-box;padding-bottom: 0.4em;background-color: white;}#sk-container-id-1 div.sk-label label {font-family: monospace;font-weight: bold;display: inline-block;line-height: 1.2em;}#sk-container-id-1 div.sk-label-container {text-align: center;}#sk-container-id-1 div.sk-container {/* jupyter's `normalize.less` sets `[hidden] { display: none; }` but bootstrap.min.css set `[hidden] { display: none !important; }` so we also need the `!important` here to be able to override the default hidden behavior on the sphinx rendered scikit-learn.org. See: https://github.com/scikit-learn/scikit-learn/issues/21755 */display: inline-block !important;position: relative;}#sk-container-id-1 div.sk-text-repr-fallback {display: none;}</style><div id=\"sk-container-id-1\" class=\"sk-top-container\"><div class=\"sk-text-repr-fallback\"><pre>LogisticRegression()</pre><b>In a Jupyter environment, please rerun this cell to show the HTML representation or trust the notebook. <br />On GitHub, the HTML representation is unable to render, please try loading this page with nbviewer.org.</b></div><div class=\"sk-container\" hidden><div class=\"sk-item\"><div class=\"sk-estimator sk-toggleable\"><input class=\"sk-toggleable__control sk-hidden--visually\" id=\"sk-estimator-id-1\" type=\"checkbox\" checked><label for=\"sk-estimator-id-1\" class=\"sk-toggleable__label sk-toggleable__label-arrow\">LogisticRegression</label><div class=\"sk-toggleable__content\"><pre>LogisticRegression()</pre></div></div></div></div></div>"
      ],
      "text/plain": [
       "LogisticRegression()"
      ]
     },
     "execution_count": 17,
     "metadata": {},
     "output_type": "execute_result"
    }
   ],
   "source": [
    "# logistic regression model fitting\n",
    "log_model.fit(X_train, y_train)"
   ]
  },
  {
   "cell_type": "code",
   "execution_count": 18,
   "metadata": {
    "execution": {
     "iopub.execute_input": "2024-04-12T15:17:58.962025Z",
     "iopub.status.busy": "2024-04-12T15:17:58.961665Z",
     "iopub.status.idle": "2024-04-12T15:17:59.442555Z",
     "shell.execute_reply": "2024-04-12T15:17:59.441475Z",
     "shell.execute_reply.started": "2024-04-12T15:17:58.961997Z"
    }
   },
   "outputs": [
    {
     "data": {
      "text/html": [
       "<style>#sk-container-id-2 {color: black;background-color: white;}#sk-container-id-2 pre{padding: 0;}#sk-container-id-2 div.sk-toggleable {background-color: white;}#sk-container-id-2 label.sk-toggleable__label {cursor: pointer;display: block;width: 100%;margin-bottom: 0;padding: 0.3em;box-sizing: border-box;text-align: center;}#sk-container-id-2 label.sk-toggleable__label-arrow:before {content: \"▸\";float: left;margin-right: 0.25em;color: #696969;}#sk-container-id-2 label.sk-toggleable__label-arrow:hover:before {color: black;}#sk-container-id-2 div.sk-estimator:hover label.sk-toggleable__label-arrow:before {color: black;}#sk-container-id-2 div.sk-toggleable__content {max-height: 0;max-width: 0;overflow: hidden;text-align: left;background-color: #f0f8ff;}#sk-container-id-2 div.sk-toggleable__content pre {margin: 0.2em;color: black;border-radius: 0.25em;background-color: #f0f8ff;}#sk-container-id-2 input.sk-toggleable__control:checked~div.sk-toggleable__content {max-height: 200px;max-width: 100%;overflow: auto;}#sk-container-id-2 input.sk-toggleable__control:checked~label.sk-toggleable__label-arrow:before {content: \"▾\";}#sk-container-id-2 div.sk-estimator input.sk-toggleable__control:checked~label.sk-toggleable__label {background-color: #d4ebff;}#sk-container-id-2 div.sk-label input.sk-toggleable__control:checked~label.sk-toggleable__label {background-color: #d4ebff;}#sk-container-id-2 input.sk-hidden--visually {border: 0;clip: rect(1px 1px 1px 1px);clip: rect(1px, 1px, 1px, 1px);height: 1px;margin: -1px;overflow: hidden;padding: 0;position: absolute;width: 1px;}#sk-container-id-2 div.sk-estimator {font-family: monospace;background-color: #f0f8ff;border: 1px dotted black;border-radius: 0.25em;box-sizing: border-box;margin-bottom: 0.5em;}#sk-container-id-2 div.sk-estimator:hover {background-color: #d4ebff;}#sk-container-id-2 div.sk-parallel-item::after {content: \"\";width: 100%;border-bottom: 1px solid gray;flex-grow: 1;}#sk-container-id-2 div.sk-label:hover label.sk-toggleable__label {background-color: #d4ebff;}#sk-container-id-2 div.sk-serial::before {content: \"\";position: absolute;border-left: 1px solid gray;box-sizing: border-box;top: 0;bottom: 0;left: 50%;z-index: 0;}#sk-container-id-2 div.sk-serial {display: flex;flex-direction: column;align-items: center;background-color: white;padding-right: 0.2em;padding-left: 0.2em;position: relative;}#sk-container-id-2 div.sk-item {position: relative;z-index: 1;}#sk-container-id-2 div.sk-parallel {display: flex;align-items: stretch;justify-content: center;background-color: white;position: relative;}#sk-container-id-2 div.sk-item::before, #sk-container-id-2 div.sk-parallel-item::before {content: \"\";position: absolute;border-left: 1px solid gray;box-sizing: border-box;top: 0;bottom: 0;left: 50%;z-index: -1;}#sk-container-id-2 div.sk-parallel-item {display: flex;flex-direction: column;z-index: 1;position: relative;background-color: white;}#sk-container-id-2 div.sk-parallel-item:first-child::after {align-self: flex-end;width: 50%;}#sk-container-id-2 div.sk-parallel-item:last-child::after {align-self: flex-start;width: 50%;}#sk-container-id-2 div.sk-parallel-item:only-child::after {width: 0;}#sk-container-id-2 div.sk-dashed-wrapped {border: 1px dashed gray;margin: 0 0.4em 0.5em 0.4em;box-sizing: border-box;padding-bottom: 0.4em;background-color: white;}#sk-container-id-2 div.sk-label label {font-family: monospace;font-weight: bold;display: inline-block;line-height: 1.2em;}#sk-container-id-2 div.sk-label-container {text-align: center;}#sk-container-id-2 div.sk-container {/* jupyter's `normalize.less` sets `[hidden] { display: none; }` but bootstrap.min.css set `[hidden] { display: none !important; }` so we also need the `!important` here to be able to override the default hidden behavior on the sphinx rendered scikit-learn.org. See: https://github.com/scikit-learn/scikit-learn/issues/21755 */display: inline-block !important;position: relative;}#sk-container-id-2 div.sk-text-repr-fallback {display: none;}</style><div id=\"sk-container-id-2\" class=\"sk-top-container\"><div class=\"sk-text-repr-fallback\"><pre>RandomForestClassifier()</pre><b>In a Jupyter environment, please rerun this cell to show the HTML representation or trust the notebook. <br />On GitHub, the HTML representation is unable to render, please try loading this page with nbviewer.org.</b></div><div class=\"sk-container\" hidden><div class=\"sk-item\"><div class=\"sk-estimator sk-toggleable\"><input class=\"sk-toggleable__control sk-hidden--visually\" id=\"sk-estimator-id-2\" type=\"checkbox\" checked><label for=\"sk-estimator-id-2\" class=\"sk-toggleable__label sk-toggleable__label-arrow\">RandomForestClassifier</label><div class=\"sk-toggleable__content\"><pre>RandomForestClassifier()</pre></div></div></div></div></div>"
      ],
      "text/plain": [
       "RandomForestClassifier()"
      ]
     },
     "execution_count": 18,
     "metadata": {},
     "output_type": "execute_result"
    }
   ],
   "source": [
    "# random forest classifier model fitting\n",
    "rf_model.fit(X_train, y_train)"
   ]
  },
  {
   "cell_type": "code",
   "execution_count": 19,
   "metadata": {
    "execution": {
     "iopub.execute_input": "2024-04-12T15:18:00.273704Z",
     "iopub.status.busy": "2024-04-12T15:18:00.272747Z",
     "iopub.status.idle": "2024-04-12T15:18:00.372242Z",
     "shell.execute_reply": "2024-04-12T15:18:00.371167Z",
     "shell.execute_reply.started": "2024-04-12T15:18:00.273671Z"
    }
   },
   "outputs": [
    {
     "data": {
      "text/html": [
       "<style>#sk-container-id-3 {color: black;background-color: white;}#sk-container-id-3 pre{padding: 0;}#sk-container-id-3 div.sk-toggleable {background-color: white;}#sk-container-id-3 label.sk-toggleable__label {cursor: pointer;display: block;width: 100%;margin-bottom: 0;padding: 0.3em;box-sizing: border-box;text-align: center;}#sk-container-id-3 label.sk-toggleable__label-arrow:before {content: \"▸\";float: left;margin-right: 0.25em;color: #696969;}#sk-container-id-3 label.sk-toggleable__label-arrow:hover:before {color: black;}#sk-container-id-3 div.sk-estimator:hover label.sk-toggleable__label-arrow:before {color: black;}#sk-container-id-3 div.sk-toggleable__content {max-height: 0;max-width: 0;overflow: hidden;text-align: left;background-color: #f0f8ff;}#sk-container-id-3 div.sk-toggleable__content pre {margin: 0.2em;color: black;border-radius: 0.25em;background-color: #f0f8ff;}#sk-container-id-3 input.sk-toggleable__control:checked~div.sk-toggleable__content {max-height: 200px;max-width: 100%;overflow: auto;}#sk-container-id-3 input.sk-toggleable__control:checked~label.sk-toggleable__label-arrow:before {content: \"▾\";}#sk-container-id-3 div.sk-estimator input.sk-toggleable__control:checked~label.sk-toggleable__label {background-color: #d4ebff;}#sk-container-id-3 div.sk-label input.sk-toggleable__control:checked~label.sk-toggleable__label {background-color: #d4ebff;}#sk-container-id-3 input.sk-hidden--visually {border: 0;clip: rect(1px 1px 1px 1px);clip: rect(1px, 1px, 1px, 1px);height: 1px;margin: -1px;overflow: hidden;padding: 0;position: absolute;width: 1px;}#sk-container-id-3 div.sk-estimator {font-family: monospace;background-color: #f0f8ff;border: 1px dotted black;border-radius: 0.25em;box-sizing: border-box;margin-bottom: 0.5em;}#sk-container-id-3 div.sk-estimator:hover {background-color: #d4ebff;}#sk-container-id-3 div.sk-parallel-item::after {content: \"\";width: 100%;border-bottom: 1px solid gray;flex-grow: 1;}#sk-container-id-3 div.sk-label:hover label.sk-toggleable__label {background-color: #d4ebff;}#sk-container-id-3 div.sk-serial::before {content: \"\";position: absolute;border-left: 1px solid gray;box-sizing: border-box;top: 0;bottom: 0;left: 50%;z-index: 0;}#sk-container-id-3 div.sk-serial {display: flex;flex-direction: column;align-items: center;background-color: white;padding-right: 0.2em;padding-left: 0.2em;position: relative;}#sk-container-id-3 div.sk-item {position: relative;z-index: 1;}#sk-container-id-3 div.sk-parallel {display: flex;align-items: stretch;justify-content: center;background-color: white;position: relative;}#sk-container-id-3 div.sk-item::before, #sk-container-id-3 div.sk-parallel-item::before {content: \"\";position: absolute;border-left: 1px solid gray;box-sizing: border-box;top: 0;bottom: 0;left: 50%;z-index: -1;}#sk-container-id-3 div.sk-parallel-item {display: flex;flex-direction: column;z-index: 1;position: relative;background-color: white;}#sk-container-id-3 div.sk-parallel-item:first-child::after {align-self: flex-end;width: 50%;}#sk-container-id-3 div.sk-parallel-item:last-child::after {align-self: flex-start;width: 50%;}#sk-container-id-3 div.sk-parallel-item:only-child::after {width: 0;}#sk-container-id-3 div.sk-dashed-wrapped {border: 1px dashed gray;margin: 0 0.4em 0.5em 0.4em;box-sizing: border-box;padding-bottom: 0.4em;background-color: white;}#sk-container-id-3 div.sk-label label {font-family: monospace;font-weight: bold;display: inline-block;line-height: 1.2em;}#sk-container-id-3 div.sk-label-container {text-align: center;}#sk-container-id-3 div.sk-container {/* jupyter's `normalize.less` sets `[hidden] { display: none; }` but bootstrap.min.css set `[hidden] { display: none !important; }` so we also need the `!important` here to be able to override the default hidden behavior on the sphinx rendered scikit-learn.org. See: https://github.com/scikit-learn/scikit-learn/issues/21755 */display: inline-block !important;position: relative;}#sk-container-id-3 div.sk-text-repr-fallback {display: none;}</style><div id=\"sk-container-id-3\" class=\"sk-top-container\"><div class=\"sk-text-repr-fallback\"><pre>SVC()</pre><b>In a Jupyter environment, please rerun this cell to show the HTML representation or trust the notebook. <br />On GitHub, the HTML representation is unable to render, please try loading this page with nbviewer.org.</b></div><div class=\"sk-container\" hidden><div class=\"sk-item\"><div class=\"sk-estimator sk-toggleable\"><input class=\"sk-toggleable__control sk-hidden--visually\" id=\"sk-estimator-id-3\" type=\"checkbox\" checked><label for=\"sk-estimator-id-3\" class=\"sk-toggleable__label sk-toggleable__label-arrow\">SVC</label><div class=\"sk-toggleable__content\"><pre>SVC()</pre></div></div></div></div></div>"
      ],
      "text/plain": [
       "SVC()"
      ]
     },
     "execution_count": 19,
     "metadata": {},
     "output_type": "execute_result"
    }
   ],
   "source": [
    "# support vector classifier model fitting\n",
    "svm_model.fit(X_train, y_train)"
   ]
  },
  {
   "cell_type": "code",
   "execution_count": 20,
   "metadata": {
    "execution": {
     "iopub.execute_input": "2024-04-12T15:18:01.133679Z",
     "iopub.status.busy": "2024-04-12T15:18:01.133314Z",
     "iopub.status.idle": "2024-04-12T15:18:01.147001Z",
     "shell.execute_reply": "2024-04-12T15:18:01.145927Z",
     "shell.execute_reply.started": "2024-04-12T15:18:01.133654Z"
    }
   },
   "outputs": [
    {
     "data": {
      "text/html": [
       "<style>#sk-container-id-4 {color: black;background-color: white;}#sk-container-id-4 pre{padding: 0;}#sk-container-id-4 div.sk-toggleable {background-color: white;}#sk-container-id-4 label.sk-toggleable__label {cursor: pointer;display: block;width: 100%;margin-bottom: 0;padding: 0.3em;box-sizing: border-box;text-align: center;}#sk-container-id-4 label.sk-toggleable__label-arrow:before {content: \"▸\";float: left;margin-right: 0.25em;color: #696969;}#sk-container-id-4 label.sk-toggleable__label-arrow:hover:before {color: black;}#sk-container-id-4 div.sk-estimator:hover label.sk-toggleable__label-arrow:before {color: black;}#sk-container-id-4 div.sk-toggleable__content {max-height: 0;max-width: 0;overflow: hidden;text-align: left;background-color: #f0f8ff;}#sk-container-id-4 div.sk-toggleable__content pre {margin: 0.2em;color: black;border-radius: 0.25em;background-color: #f0f8ff;}#sk-container-id-4 input.sk-toggleable__control:checked~div.sk-toggleable__content {max-height: 200px;max-width: 100%;overflow: auto;}#sk-container-id-4 input.sk-toggleable__control:checked~label.sk-toggleable__label-arrow:before {content: \"▾\";}#sk-container-id-4 div.sk-estimator input.sk-toggleable__control:checked~label.sk-toggleable__label {background-color: #d4ebff;}#sk-container-id-4 div.sk-label input.sk-toggleable__control:checked~label.sk-toggleable__label {background-color: #d4ebff;}#sk-container-id-4 input.sk-hidden--visually {border: 0;clip: rect(1px 1px 1px 1px);clip: rect(1px, 1px, 1px, 1px);height: 1px;margin: -1px;overflow: hidden;padding: 0;position: absolute;width: 1px;}#sk-container-id-4 div.sk-estimator {font-family: monospace;background-color: #f0f8ff;border: 1px dotted black;border-radius: 0.25em;box-sizing: border-box;margin-bottom: 0.5em;}#sk-container-id-4 div.sk-estimator:hover {background-color: #d4ebff;}#sk-container-id-4 div.sk-parallel-item::after {content: \"\";width: 100%;border-bottom: 1px solid gray;flex-grow: 1;}#sk-container-id-4 div.sk-label:hover label.sk-toggleable__label {background-color: #d4ebff;}#sk-container-id-4 div.sk-serial::before {content: \"\";position: absolute;border-left: 1px solid gray;box-sizing: border-box;top: 0;bottom: 0;left: 50%;z-index: 0;}#sk-container-id-4 div.sk-serial {display: flex;flex-direction: column;align-items: center;background-color: white;padding-right: 0.2em;padding-left: 0.2em;position: relative;}#sk-container-id-4 div.sk-item {position: relative;z-index: 1;}#sk-container-id-4 div.sk-parallel {display: flex;align-items: stretch;justify-content: center;background-color: white;position: relative;}#sk-container-id-4 div.sk-item::before, #sk-container-id-4 div.sk-parallel-item::before {content: \"\";position: absolute;border-left: 1px solid gray;box-sizing: border-box;top: 0;bottom: 0;left: 50%;z-index: -1;}#sk-container-id-4 div.sk-parallel-item {display: flex;flex-direction: column;z-index: 1;position: relative;background-color: white;}#sk-container-id-4 div.sk-parallel-item:first-child::after {align-self: flex-end;width: 50%;}#sk-container-id-4 div.sk-parallel-item:last-child::after {align-self: flex-start;width: 50%;}#sk-container-id-4 div.sk-parallel-item:only-child::after {width: 0;}#sk-container-id-4 div.sk-dashed-wrapped {border: 1px dashed gray;margin: 0 0.4em 0.5em 0.4em;box-sizing: border-box;padding-bottom: 0.4em;background-color: white;}#sk-container-id-4 div.sk-label label {font-family: monospace;font-weight: bold;display: inline-block;line-height: 1.2em;}#sk-container-id-4 div.sk-label-container {text-align: center;}#sk-container-id-4 div.sk-container {/* jupyter's `normalize.less` sets `[hidden] { display: none; }` but bootstrap.min.css set `[hidden] { display: none !important; }` so we also need the `!important` here to be able to override the default hidden behavior on the sphinx rendered scikit-learn.org. See: https://github.com/scikit-learn/scikit-learn/issues/21755 */display: inline-block !important;position: relative;}#sk-container-id-4 div.sk-text-repr-fallback {display: none;}</style><div id=\"sk-container-id-4\" class=\"sk-top-container\"><div class=\"sk-text-repr-fallback\"><pre>KNeighborsClassifier()</pre><b>In a Jupyter environment, please rerun this cell to show the HTML representation or trust the notebook. <br />On GitHub, the HTML representation is unable to render, please try loading this page with nbviewer.org.</b></div><div class=\"sk-container\" hidden><div class=\"sk-item\"><div class=\"sk-estimator sk-toggleable\"><input class=\"sk-toggleable__control sk-hidden--visually\" id=\"sk-estimator-id-4\" type=\"checkbox\" checked><label for=\"sk-estimator-id-4\" class=\"sk-toggleable__label sk-toggleable__label-arrow\">KNeighborsClassifier</label><div class=\"sk-toggleable__content\"><pre>KNeighborsClassifier()</pre></div></div></div></div></div>"
      ],
      "text/plain": [
       "KNeighborsClassifier()"
      ]
     },
     "execution_count": 20,
     "metadata": {},
     "output_type": "execute_result"
    }
   ],
   "source": [
    "# k nearest neighbour model fitting\n",
    "knn_model.fit(X_train, y_train)"
   ]
  },
  {
   "cell_type": "code",
   "execution_count": 21,
   "metadata": {
    "execution": {
     "iopub.execute_input": "2024-04-12T15:18:01.959556Z",
     "iopub.status.busy": "2024-04-12T15:18:01.958879Z",
     "iopub.status.idle": "2024-04-12T15:18:01.973905Z",
     "shell.execute_reply": "2024-04-12T15:18:01.972674Z",
     "shell.execute_reply.started": "2024-04-12T15:18:01.959520Z"
    }
   },
   "outputs": [
    {
     "data": {
      "text/html": [
       "<style>#sk-container-id-5 {color: black;background-color: white;}#sk-container-id-5 pre{padding: 0;}#sk-container-id-5 div.sk-toggleable {background-color: white;}#sk-container-id-5 label.sk-toggleable__label {cursor: pointer;display: block;width: 100%;margin-bottom: 0;padding: 0.3em;box-sizing: border-box;text-align: center;}#sk-container-id-5 label.sk-toggleable__label-arrow:before {content: \"▸\";float: left;margin-right: 0.25em;color: #696969;}#sk-container-id-5 label.sk-toggleable__label-arrow:hover:before {color: black;}#sk-container-id-5 div.sk-estimator:hover label.sk-toggleable__label-arrow:before {color: black;}#sk-container-id-5 div.sk-toggleable__content {max-height: 0;max-width: 0;overflow: hidden;text-align: left;background-color: #f0f8ff;}#sk-container-id-5 div.sk-toggleable__content pre {margin: 0.2em;color: black;border-radius: 0.25em;background-color: #f0f8ff;}#sk-container-id-5 input.sk-toggleable__control:checked~div.sk-toggleable__content {max-height: 200px;max-width: 100%;overflow: auto;}#sk-container-id-5 input.sk-toggleable__control:checked~label.sk-toggleable__label-arrow:before {content: \"▾\";}#sk-container-id-5 div.sk-estimator input.sk-toggleable__control:checked~label.sk-toggleable__label {background-color: #d4ebff;}#sk-container-id-5 div.sk-label input.sk-toggleable__control:checked~label.sk-toggleable__label {background-color: #d4ebff;}#sk-container-id-5 input.sk-hidden--visually {border: 0;clip: rect(1px 1px 1px 1px);clip: rect(1px, 1px, 1px, 1px);height: 1px;margin: -1px;overflow: hidden;padding: 0;position: absolute;width: 1px;}#sk-container-id-5 div.sk-estimator {font-family: monospace;background-color: #f0f8ff;border: 1px dotted black;border-radius: 0.25em;box-sizing: border-box;margin-bottom: 0.5em;}#sk-container-id-5 div.sk-estimator:hover {background-color: #d4ebff;}#sk-container-id-5 div.sk-parallel-item::after {content: \"\";width: 100%;border-bottom: 1px solid gray;flex-grow: 1;}#sk-container-id-5 div.sk-label:hover label.sk-toggleable__label {background-color: #d4ebff;}#sk-container-id-5 div.sk-serial::before {content: \"\";position: absolute;border-left: 1px solid gray;box-sizing: border-box;top: 0;bottom: 0;left: 50%;z-index: 0;}#sk-container-id-5 div.sk-serial {display: flex;flex-direction: column;align-items: center;background-color: white;padding-right: 0.2em;padding-left: 0.2em;position: relative;}#sk-container-id-5 div.sk-item {position: relative;z-index: 1;}#sk-container-id-5 div.sk-parallel {display: flex;align-items: stretch;justify-content: center;background-color: white;position: relative;}#sk-container-id-5 div.sk-item::before, #sk-container-id-5 div.sk-parallel-item::before {content: \"\";position: absolute;border-left: 1px solid gray;box-sizing: border-box;top: 0;bottom: 0;left: 50%;z-index: -1;}#sk-container-id-5 div.sk-parallel-item {display: flex;flex-direction: column;z-index: 1;position: relative;background-color: white;}#sk-container-id-5 div.sk-parallel-item:first-child::after {align-self: flex-end;width: 50%;}#sk-container-id-5 div.sk-parallel-item:last-child::after {align-self: flex-start;width: 50%;}#sk-container-id-5 div.sk-parallel-item:only-child::after {width: 0;}#sk-container-id-5 div.sk-dashed-wrapped {border: 1px dashed gray;margin: 0 0.4em 0.5em 0.4em;box-sizing: border-box;padding-bottom: 0.4em;background-color: white;}#sk-container-id-5 div.sk-label label {font-family: monospace;font-weight: bold;display: inline-block;line-height: 1.2em;}#sk-container-id-5 div.sk-label-container {text-align: center;}#sk-container-id-5 div.sk-container {/* jupyter's `normalize.less` sets `[hidden] { display: none; }` but bootstrap.min.css set `[hidden] { display: none !important; }` so we also need the `!important` here to be able to override the default hidden behavior on the sphinx rendered scikit-learn.org. See: https://github.com/scikit-learn/scikit-learn/issues/21755 */display: inline-block !important;position: relative;}#sk-container-id-5 div.sk-text-repr-fallback {display: none;}</style><div id=\"sk-container-id-5\" class=\"sk-top-container\"><div class=\"sk-text-repr-fallback\"><pre>GaussianNB()</pre><b>In a Jupyter environment, please rerun this cell to show the HTML representation or trust the notebook. <br />On GitHub, the HTML representation is unable to render, please try loading this page with nbviewer.org.</b></div><div class=\"sk-container\" hidden><div class=\"sk-item\"><div class=\"sk-estimator sk-toggleable\"><input class=\"sk-toggleable__control sk-hidden--visually\" id=\"sk-estimator-id-5\" type=\"checkbox\" checked><label for=\"sk-estimator-id-5\" class=\"sk-toggleable__label sk-toggleable__label-arrow\">GaussianNB</label><div class=\"sk-toggleable__content\"><pre>GaussianNB()</pre></div></div></div></div></div>"
      ],
      "text/plain": [
       "GaussianNB()"
      ]
     },
     "execution_count": 21,
     "metadata": {},
     "output_type": "execute_result"
    }
   ],
   "source": [
    "# gaussian naive bayes model fitting\n",
    "gnb_model.fit(X_train, y_train)"
   ]
  },
  {
   "cell_type": "markdown",
   "metadata": {},
   "source": [
    "# **Model Validation**"
   ]
  },
  {
   "cell_type": "code",
   "execution_count": 22,
   "metadata": {
    "execution": {
     "iopub.execute_input": "2024-04-12T15:18:03.345708Z",
     "iopub.status.busy": "2024-04-12T15:18:03.344167Z",
     "iopub.status.idle": "2024-04-12T15:18:03.349962Z",
     "shell.execute_reply": "2024-04-12T15:18:03.348982Z",
     "shell.execute_reply.started": "2024-04-12T15:18:03.345669Z"
    }
   },
   "outputs": [],
   "source": [
    "# model testing libraries\n",
    "from sklearn.metrics import accuracy_score, precision_score, recall_score, f1_score"
   ]
  },
  {
   "cell_type": "code",
   "execution_count": 23,
   "metadata": {
    "execution": {
     "iopub.execute_input": "2024-04-12T15:18:06.954349Z",
     "iopub.status.busy": "2024-04-12T15:18:06.953292Z",
     "iopub.status.idle": "2024-04-12T15:18:06.982209Z",
     "shell.execute_reply": "2024-04-12T15:18:06.981047Z",
     "shell.execute_reply.started": "2024-04-12T15:18:06.954311Z"
    }
   },
   "outputs": [
    {
     "name": "stdout",
     "output_type": "stream",
     "text": [
      "Logistic Regression\n",
      "Accuracy: 0.7975352112676056\n",
      "Precision: 0.7919000276392959\n",
      "Recall: 0.7975352112676056\n",
      "F1 score: 0.7904120813193674\n"
     ]
    }
   ],
   "source": [
    "# logistic regression model testing\n",
    "y_pred_log = log_model.predict(X_test)\n",
    "print(\"Logistic Regression\")\n",
    "print(f\"Accuracy: {accuracy_score(y_test, y_pred_log)}\")\n",
    "print(f\"Precision: {precision_score(y_test, y_pred_log, average='weighted')}\")\n",
    "print(f\"Recall: {recall_score(y_test, y_pred_log, average='weighted')}\")\n",
    "print(f\"F1 score: {f1_score(y_test, y_pred_log, average='weighted')}\")"
   ]
  },
  {
   "cell_type": "code",
   "execution_count": 24,
   "metadata": {
    "execution": {
     "iopub.execute_input": "2024-04-12T15:18:07.733710Z",
     "iopub.status.busy": "2024-04-12T15:18:07.732745Z",
     "iopub.status.idle": "2024-04-12T15:18:07.775290Z",
     "shell.execute_reply": "2024-04-12T15:18:07.774176Z",
     "shell.execute_reply.started": "2024-04-12T15:18:07.733673Z"
    }
   },
   "outputs": [
    {
     "name": "stdout",
     "output_type": "stream",
     "text": [
      "Random Forest Classifier\n",
      "Accuracy: 0.9665492957746479\n",
      "Precision: 0.9555637339944956\n",
      "Recall: 0.9665492957746479\n",
      "F1 score: 0.9601125217303212\n"
     ]
    }
   ],
   "source": [
    "# random forest classifier model testing\n",
    "y_pred_rf = rf_model.predict(X_test)\n",
    "print(\"Random Forest Classifier\")\n",
    "print(f\"Accuracy: {accuracy_score(y_test, y_pred_rf)}\")\n",
    "print(f\"Precision: {precision_score(y_test, y_pred_rf, average='weighted')}\")\n",
    "print(f\"Recall: {recall_score(y_test, y_pred_rf, average='weighted')}\")\n",
    "print(f\"F1 score: {f1_score(y_test, y_pred_rf, average='weighted')}\")"
   ]
  },
  {
   "cell_type": "code",
   "execution_count": 25,
   "metadata": {
    "execution": {
     "iopub.execute_input": "2024-04-12T15:18:08.463649Z",
     "iopub.status.busy": "2024-04-12T15:18:08.463273Z",
     "iopub.status.idle": "2024-04-12T15:18:08.510497Z",
     "shell.execute_reply": "2024-04-12T15:18:08.509281Z",
     "shell.execute_reply.started": "2024-04-12T15:18:08.463621Z"
    }
   },
   "outputs": [
    {
     "name": "stdout",
     "output_type": "stream",
     "text": [
      "Support Vector Classifier\n",
      "Accuracy: 0.9507042253521126\n",
      "Precision: 0.9393622930189252\n",
      "Recall: 0.9507042253521126\n",
      "F1 score: 0.9442948634878418\n"
     ]
    }
   ],
   "source": [
    "# support vector classifier model testing\n",
    "y_pred_svm = svm_model.predict(X_test)\n",
    "print(\"Support Vector Classifier\")\n",
    "print(f\"Accuracy: {accuracy_score(y_test, y_pred_svm)}\")\n",
    "print(f\"Precision: {precision_score(y_test, y_pred_svm, average='weighted')}\")\n",
    "print(f\"Recall: {recall_score(y_test, y_pred_svm, average='weighted')}\")\n",
    "print(f\"F1 score: {f1_score(y_test, y_pred_svm, average='weighted')}\")"
   ]
  },
  {
   "cell_type": "code",
   "execution_count": 26,
   "metadata": {
    "execution": {
     "iopub.execute_input": "2024-04-12T15:18:09.083818Z",
     "iopub.status.busy": "2024-04-12T15:18:09.083196Z",
     "iopub.status.idle": "2024-04-12T15:18:09.187334Z",
     "shell.execute_reply": "2024-04-12T15:18:09.186214Z",
     "shell.execute_reply.started": "2024-04-12T15:18:09.083784Z"
    }
   },
   "outputs": [
    {
     "name": "stdout",
     "output_type": "stream",
     "text": [
      "K Nearest Neighbours\n",
      "Accuracy: 0.9137323943661971\n",
      "Precision: 0.9040863974148078\n",
      "Recall: 0.9137323943661971\n",
      "F1 score: 0.9067910560593954\n"
     ]
    }
   ],
   "source": [
    "# k nearest neighbour model testing\n",
    "y_pred_knn = knn_model.predict(X_test)\n",
    "print(\"K Nearest Neighbours\")\n",
    "print(f\"Accuracy: {accuracy_score(y_test, y_pred_knn)}\")\n",
    "print(f\"Precision: {precision_score(y_test, y_pred_knn, average='weighted')}\")\n",
    "print(f\"Recall: {recall_score(y_test, y_pred_knn, average='weighted')}\")\n",
    "print(f\"F1 score: {f1_score(y_test, y_pred_knn, average='weighted')}\")"
   ]
  },
  {
   "cell_type": "code",
   "execution_count": 27,
   "metadata": {
    "execution": {
     "iopub.execute_input": "2024-04-12T15:18:09.734192Z",
     "iopub.status.busy": "2024-04-12T15:18:09.733823Z",
     "iopub.status.idle": "2024-04-12T15:18:09.756382Z",
     "shell.execute_reply": "2024-04-12T15:18:09.755501Z",
     "shell.execute_reply.started": "2024-04-12T15:18:09.734161Z"
    }
   },
   "outputs": [
    {
     "name": "stdout",
     "output_type": "stream",
     "text": [
      "Gaussian Naive Bayes\n",
      "Accuracy: 0.8151408450704225\n",
      "Precision: 0.8139268894566737\n",
      "Recall: 0.8151408450704225\n",
      "F1 score: 0.8120081389007445\n"
     ]
    }
   ],
   "source": [
    "# gaussian naive bayes model testing\n",
    "y_pred_gnb = gnb_model.predict(X_test)\n",
    "print(\"Gaussian Naive Bayes\")\n",
    "print(f\"Accuracy: {accuracy_score(y_test, y_pred_gnb)}\")\n",
    "print(f\"Precision: {precision_score(y_test, y_pred_gnb, average='weighted')}\")\n",
    "print(f\"Recall: {recall_score(y_test, y_pred_gnb, average='weighted')}\")\n",
    "print(f\"F1 score: {f1_score(y_test, y_pred_gnb, average='weighted')}\")"
   ]
  },
  {
   "cell_type": "markdown",
   "metadata": {},
   "source": [
    "# **Model Saving**"
   ]
  },
  {
   "cell_type": "code",
   "execution_count": 38,
   "metadata": {
    "execution": {
     "iopub.execute_input": "2024-04-12T15:28:52.836221Z",
     "iopub.status.busy": "2024-04-12T15:28:52.835807Z",
     "iopub.status.idle": "2024-04-12T15:28:52.911481Z",
     "shell.execute_reply": "2024-04-12T15:28:52.910340Z",
     "shell.execute_reply.started": "2024-04-12T15:28:52.836188Z"
    }
   },
   "outputs": [
    {
     "data": {
      "text/plain": [
       "['gnb_model.joblib']"
      ]
     },
     "execution_count": 38,
     "metadata": {},
     "output_type": "execute_result"
    }
   ],
   "source": [
    "# save .h5 files\n",
    "joblib.dump(log_model, 'log_model.joblib')\n",
    "joblib.dump(rf_model, 'rf_model.joblib')\n",
    "joblib.dump(svm_model, 'svm_model.joblib')\n",
    "joblib.dump(knn_model, 'knn_model.joblib')\n",
    "joblib.dump(gnb_model, 'gnb_model.joblib')"
   ]
  },
  {
   "cell_type": "code",
   "execution_count": null,
   "metadata": {},
   "outputs": [],
   "source": []
  }
 ],
 "metadata": {
  "kaggle": {
   "accelerator": "none",
   "dataSources": [
    {
     "datasetId": 4532617,
     "sourceId": 7752217,
     "sourceType": "datasetVersion"
    }
   ],
   "dockerImageVersionId": 30664,
   "isGpuEnabled": false,
   "isInternetEnabled": true,
   "language": "python",
   "sourceType": "notebook"
  },
  "kernelspec": {
   "display_name": "Python 3 (ipykernel)",
   "language": "python",
   "name": "python3"
  },
  "language_info": {
   "codemirror_mode": {
    "name": "ipython",
    "version": 3
   },
   "file_extension": ".py",
   "mimetype": "text/x-python",
   "name": "python",
   "nbconvert_exporter": "python",
   "pygments_lexer": "ipython3",
   "version": "3.9.0"
  }
 },
 "nbformat": 4,
 "nbformat_minor": 4
}
